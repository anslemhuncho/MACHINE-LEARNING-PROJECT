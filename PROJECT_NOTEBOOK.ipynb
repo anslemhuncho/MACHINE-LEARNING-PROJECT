{
  "nbformat": 4,
  "nbformat_minor": 0,
  "metadata": {
    "colab": {
      "provenance": [],
      "authorship_tag": "ABX9TyMAwx5D4/FpGC4g60O9JJs8",
      "include_colab_link": true
    },
    "kernelspec": {
      "name": "python3",
      "display_name": "Python 3"
    },
    "language_info": {
      "name": "python"
    }
  },
  "cells": [
    {
      "cell_type": "markdown",
      "metadata": {
        "id": "view-in-github",
        "colab_type": "text"
      },
      "source": [
        "<a href=\"https://colab.research.google.com/github/anslemhuncho/MACHINE-LEARNING-PROJECT/blob/main/PROJECT_NOTEBOOK.ipynb\" target=\"_parent\"><img src=\"https://colab.research.google.com/assets/colab-badge.svg\" alt=\"Open In Colab\"/></a>"
      ]
    },
    {
      "cell_type": "markdown",
      "source": [
        "# EDA\n",
        "[link to the eda](https://colab.research.google.com/drive/1pUeNapSFfup2g2Er5J_STYFa4uXbqRN5?usp=sharing)"
      ],
      "metadata": {
        "id": "MNdqyuEl999c"
      }
    },
    {
      "cell_type": "markdown",
      "source": [
        "# VGGI6\n",
        " [link to the VGG16 model](https://colab.research.google.com/drive/1TVJe5jprAxsI1nfi6XPYpBXwJ_ctzMiR?usp=sharing#scrollTo=UlsYL7hItSa1)"
      ],
      "metadata": {
        "id": "sEyDR2Eq-uYD"
      }
    },
    {
      "cell_type": "markdown",
      "source": [
        "# CNN\n",
        "[link to CNN Model](https://colab.research.google.com/drive/1RGqYqy6jmihZNcoe-a3nGy2t68vabPW8?usp=sharing)"
      ],
      "metadata": {
        "id": "JE5PmkOt_KPi"
      }
    },
    {
      "cell_type": "markdown",
      "source": [
        "# ANN\n",
        "[link to ANN Model](https://colab.research.google.com/drive/1snHnLqdN44bsMNah3Iw9pEndsEDa7jou?usp=sharing)"
      ],
      "metadata": {
        "id": "PisTKyaj_Yl2"
      }
    },
    {
      "cell_type": "markdown",
      "source": [
        "# RESNET50\n",
        "[link to RESNET50 model](https://colab.research.google.com/drive/1HawUPN0KBlQ8XYWbbmyX_q1utCUIzNUh?usp=sharing#scrollTo=mn1QkOlWfR7r)"
      ],
      "metadata": {
        "id": "FlfJn6TM_iQR"
      }
    },
    {
      "cell_type": "markdown",
      "source": [
        "# ViT\n",
        "[link to ViT](https://colab.research.google.com/drive/1u9q1jPhW0FeQvk19Z-w25hOSV1ZDtfdW?usp=sharing)"
      ],
      "metadata": {
        "id": "YSZzjfxo_yuT"
      }
    }
  ]
}