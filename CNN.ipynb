{
  "cells": [
    {
      "cell_type": "markdown",
      "metadata": {
        "id": "view-in-github",
        "colab_type": "text"
      },
      "source": [
        "<a href=\"https://colab.research.google.com/github/anslemhuncho/MACHINE-LEARNING-PROJECT/blob/anslem/CNN.ipynb\" target=\"_parent\"><img src=\"https://colab.research.google.com/assets/colab-badge.svg\" alt=\"Open In Colab\"/></a>"
      ]
    },
    {
      "cell_type": "markdown",
      "metadata": {
        "id": "RYUSsJSXvV-N"
      },
      "source": [
        "convert images into matplot files"
      ]
    },
    {
      "cell_type": "code",
      "execution_count": 2,
      "metadata": {
        "id": "jXlTHg3ylszY"
      },
      "outputs": [],
      "source": [
        "from google.colab import drive\n",
        "import os\n",
        "import scipy.io\n",
        "import numpy as np\n",
        "from PIL import Image\n",
        "\n",
        "def convert_images_to_mat(root_folder, output_folder):\n",
        "    for root, dirs, files in os.walk(root_folder):\n",
        "        for file in files:\n",
        "            if file.endswith(('.jpg', '.jpeg', '.png', '.bmp')):\n",
        "                image_path = os.path.join(root, file)\n",
        "                image = Image.open(image_path)\n",
        "                image_data = np.array(image)\n",
        "\n",
        "                # Create output folder if it doesn't exist\n",
        "                os.makedirs(output_folder, exist_ok=True)\n",
        "\n",
        "                # Save image data to .mat file\n",
        "                file_name = os.path.splitext(file)[0] + '.mat'\n",
        "                output_path = os.path.join(output_folder, file_name)\n",
        "                scipy.io.savemat(output_path, {'image_data': image_data})\n",
        "\n",
        "# Example usage\n",
        "root_folder = '/content/drive/MyDrive/shangai tech image dataset/shangai tech image dataset'\n",
        "output_folder = '/content/drive/MyDrive/normalised data/processed data'\n",
        "convert_images_to_mat(root_folder, output_folder)\n",
        "\n"
      ]
    },
    {
      "cell_type": "markdown",
      "metadata": {
        "id": "Sjuq9nIIvU7a"
      },
      "source": [
        "mount drive in colab"
      ]
    },
    {
      "cell_type": "code",
      "execution_count": null,
      "metadata": {
        "colab": {
          "base_uri": "https://localhost:8080/"
        },
        "id": "ERNQCkVat4yS",
        "outputId": "0326ab1c-7a9b-4b04-bb47-b7789c3df56f"
      },
      "outputs": [
        {
          "name": "stdout",
          "output_type": "stream",
          "text": [
            "Drive already mounted at /content/drive; to attempt to forcibly remount, call drive.mount(\"/content/drive\", force_remount=True).\n"
          ]
        }
      ],
      "source": [
        "from google.colab import drive\n",
        "drive.mount('/content/drive')"
      ]
    },
    {
      "cell_type": "markdown",
      "metadata": {
        "id": "ZCqkwyWesPwt"
      },
      "source": [
        "compile the model"
      ]
    },
    {
      "cell_type": "code",
      "execution_count": 3,
      "metadata": {
        "colab": {
          "base_uri": "https://localhost:8080/"
        },
        "id": "uEz8vzrgxtSG",
        "outputId": "2ead238d-5393-473b-f001-5f2233627fd4"
      },
      "outputs": [
        {
          "output_type": "stream",
          "name": "stdout",
          "text": [
            "Found 216 images belonging to 2 classes.\n",
            "Found 53 images belonging to 2 classes.\n",
            "Epoch 1/10\n",
            "1/1 [==============================] - 35s 35s/step - loss: 0.6633 - accuracy: 0.9306 - precision: 0.0000e+00 - recall: 0.0000e+00 - val_loss: 34.9322 - val_accuracy: 0.5000 - val_precision: 0.0000e+00 - val_recall: 0.0000e+00\n",
            "Epoch 2/10\n",
            "1/1 [==============================] - 27s 27s/step - loss: 1.1443e-24 - accuracy: 1.0000 - precision: 0.0000e+00 - recall: 0.0000e+00 - val_loss: 60.6573 - val_accuracy: 0.5000 - val_precision: 0.0000e+00 - val_recall: 0.0000e+00\n",
            "Epoch 3/10\n",
            "1/1 [==============================] - 30s 30s/step - loss: 0.0000e+00 - accuracy: 1.0000 - precision: 0.0000e+00 - recall: 0.0000e+00 - val_loss: 82.6119 - val_accuracy: 0.5000 - val_precision: 0.0000e+00 - val_recall: 0.0000e+00\n",
            "Epoch 4/10\n",
            "1/1 [==============================] - 28s 28s/step - loss: 0.0000e+00 - accuracy: 1.0000 - precision: 0.0000e+00 - recall: 0.0000e+00 - val_loss: 102.2566 - val_accuracy: 0.5000 - val_precision: 0.0000e+00 - val_recall: 0.0000e+00\n",
            "Epoch 5/10\n",
            "1/1 [==============================] - 28s 28s/step - loss: 0.0000e+00 - accuracy: 1.0000 - precision: 0.0000e+00 - recall: 0.0000e+00 - val_loss: 120.1803 - val_accuracy: 0.5000 - val_precision: 0.0000e+00 - val_recall: 0.0000e+00\n",
            "Epoch 6/10\n",
            "1/1 [==============================] - 26s 26s/step - loss: 0.0000e+00 - accuracy: 1.0000 - precision: 0.0000e+00 - recall: 0.0000e+00 - val_loss: 136.7005 - val_accuracy: 0.5000 - val_precision: 0.0000e+00 - val_recall: 0.0000e+00\n",
            "Epoch 7/10\n",
            "1/1 [==============================] - 38s 38s/step - loss: 0.0000e+00 - accuracy: 1.0000 - precision: 0.0000e+00 - recall: 0.0000e+00 - val_loss: 152.0127 - val_accuracy: 0.5000 - val_precision: 0.0000e+00 - val_recall: 0.0000e+00\n",
            "Epoch 8/10\n",
            "1/1 [==============================] - 28s 28s/step - loss: 0.0000e+00 - accuracy: 1.0000 - precision: 0.0000e+00 - recall: 0.0000e+00 - val_loss: 166.2498 - val_accuracy: 0.5000 - val_precision: 0.0000e+00 - val_recall: 0.0000e+00\n",
            "Epoch 9/10\n",
            "1/1 [==============================] - 27s 27s/step - loss: 0.0000e+00 - accuracy: 1.0000 - precision: 0.0000e+00 - recall: 0.0000e+00 - val_loss: 179.5024 - val_accuracy: 0.5000 - val_precision: 0.0000e+00 - val_recall: 0.0000e+00\n",
            "Epoch 10/10\n",
            "1/1 [==============================] - 29s 29s/step - loss: 0.0000e+00 - accuracy: 1.0000 - precision: 0.0000e+00 - recall: 0.0000e+00 - val_loss: 191.8361 - val_accuracy: 0.5000 - val_precision: 0.0000e+00 - val_recall: 0.0000e+00\n"
          ]
        }
      ],
      "source": [
        "from tensorflow.keras.models import Sequential\n",
        "from tensorflow.keras.layers import Conv2D, MaxPooling2D, Flatten, Dense\n",
        "from tensorflow.keras.preprocessing.image import ImageDataGenerator\n",
        "from tensorflow.keras import backend as K\n",
        "\n",
        "# Define precision and recall as custom metrics\n",
        "def precision(y_true, y_pred):\n",
        "    true_positives = K.sum(K.round(K.clip(y_true * y_pred, 0, 1)))\n",
        "    predicted_positives = K.sum(K.round(K.clip(y_pred, 0, 1)))\n",
        "    precision = true_positives / (predicted_positives + K.epsilon())\n",
        "    return precision\n",
        "\n",
        "def recall(y_true, y_pred):\n",
        "    true_positives = K.sum(K.round(K.clip(y_true * y_pred, 0, 1)))\n",
        "    actual_positives = K.sum(K.round(K.clip(y_true, 0, 1)))\n",
        "    recall = true_positives / (actual_positives + K.epsilon())\n",
        "    return recall\n",
        "\n",
        "# Define the CNN model\n",
        "model = Sequential([\n",
        "    Conv2D(32, (3, 3), activation='relu', input_shape=(254, 254, 3)),\n",
        "    MaxPooling2D((2, 2)),\n",
        "    Conv2D(64, (3, 3), activation='relu'),\n",
        "    MaxPooling2D((2, 2)),\n",
        "    Flatten(),\n",
        "    Dense(128, activation='relu'),\n",
        "    Dense(1, activation='sigmoid')\n",
        "])\n",
        "\n",
        "# Compile the model with additional metrics (precision and recall)\n",
        "model.compile(optimizer='adam', loss='binary_crossentropy', metrics=['accuracy', precision, recall])\n",
        "\n",
        "# Set up data generators\n",
        "train_datagen = ImageDataGenerator(rescale=1./255, validation_split=0.2)\n",
        "\n",
        "train_generator = train_datagen.flow_from_directory(\n",
        "    '/content/drive/MyDrive/shangai tech image dataset/shangai tech image dataset',\n",
        "    target_size=(254, 254),\n",
        "    batch_size=250,\n",
        "    class_mode='binary',\n",
        "    subset='training'\n",
        ")\n",
        "\n",
        "validation_generator = train_datagen.flow_from_directory(\n",
        "    '/content/drive/MyDrive/shangai tech image dataset/shangai tech image dataset',\n",
        "    target_size=(254, 254),\n",
        "    batch_size=250,\n",
        "    class_mode='categorical',\n",
        "    subset='validation'\n",
        ")\n",
        "\n",
        "# Train the model\n",
        "try:\n",
        "    history = model.fit(\n",
        "        train_generator,\n",
        "        epochs=10,\n",
        "        validation_data=validation_generator\n",
        "    )\n",
        "except Exception as e:\n",
        "    print(\"Error:\", e)\n",
        "    # Print additional debugging information or traceback if needed\n"
      ]
    },
    {
      "cell_type": "markdown",
      "metadata": {
        "id": "uEj8u_Q9vuCz"
      },
      "source": [
        "print predictions"
      ]
    },
    {
      "cell_type": "code",
      "execution_count": 5,
      "metadata": {
        "colab": {
          "base_uri": "https://localhost:8080/"
        },
        "id": "prYexGSBB3lO",
        "outputId": "67a04334-5885-433b-e873-b4101545dc4c"
      },
      "outputs": [
        {
          "output_type": "stream",
          "name": "stdout",
          "text": [
            "2/2 [==============================] - 1s 538ms/step\n",
            "Image 1: Predicted Probability for Crowd: 0.0000, Actual Label: crowd\n",
            "Image 2: Predicted Probability for Crowd: 0.0000, Actual Label: crowd\n",
            "Image 3: Predicted Probability for Crowd: 0.0000, Actual Label: crowd\n",
            "Image 4: Predicted Probability for Crowd: 0.0000, Actual Label: crowd\n",
            "Image 5: Predicted Probability for Crowd: 0.0000, Actual Label: crowd\n",
            "Image 6: Predicted Probability for Crowd: 0.0000, Actual Label: crowd\n",
            "Image 7: Predicted Probability for Crowd: 0.0000, Actual Label: crowd\n",
            "Image 8: Predicted Probability for Crowd: 0.0000, Actual Label: crowd\n",
            "Image 9: Predicted Probability for Crowd: 0.0000, Actual Label: crowd\n",
            "Image 10: Predicted Probability for Crowd: 0.0000, Actual Label: crowd\n",
            "Image 11: Predicted Probability for Crowd: 0.0000, Actual Label: crowd\n",
            "Image 12: Predicted Probability for Crowd: 0.0000, Actual Label: crowd\n",
            "Image 13: Predicted Probability for Crowd: 0.0000, Actual Label: crowd\n",
            "Image 14: Predicted Probability for Crowd: 0.0000, Actual Label: crowd\n",
            "Image 15: Predicted Probability for Crowd: 0.0000, Actual Label: crowd\n",
            "Image 16: Predicted Probability for Crowd: 0.0000, Actual Label: crowd\n",
            "Image 17: Predicted Probability for Crowd: 0.0000, Actual Label: crowd\n",
            "Image 18: Predicted Probability for Crowd: 0.0000, Actual Label: crowd\n",
            "Image 19: Predicted Probability for Crowd: 0.0000, Actual Label: crowd\n",
            "Image 20: Predicted Probability for Crowd: 0.0000, Actual Label: crowd\n",
            "Image 21: Predicted Probability for Crowd: 0.0000, Actual Label: crowd\n",
            "Image 22: Predicted Probability for Crowd: 0.0000, Actual Label: crowd\n",
            "Image 23: Predicted Probability for Crowd: 0.0000, Actual Label: crowd\n",
            "Image 24: Predicted Probability for Crowd: 0.0000, Actual Label: crowd\n",
            "Image 25: Predicted Probability for Crowd: 0.0000, Actual Label: crowd\n",
            "Image 26: Predicted Probability for Crowd: 0.0000, Actual Label: crowd\n",
            "Image 27: Predicted Probability for Crowd: 0.0000, Actual Label: crowd\n",
            "Image 28: Predicted Probability for Crowd: 0.0000, Actual Label: crowd\n",
            "Image 29: Predicted Probability for Crowd: 0.0000, Actual Label: crowd\n",
            "Image 30: Predicted Probability for Crowd: 0.0000, Actual Label: crowd\n",
            "Image 31: Predicted Probability for Crowd: 0.0000, Actual Label: crowd\n",
            "Image 32: Predicted Probability for Crowd: 0.0000, Actual Label: crowd\n",
            "Image 33: Predicted Probability for Crowd: 0.0000, Actual Label: crowd\n",
            "Image 34: Predicted Probability for Crowd: 0.0000, Actual Label: crowd\n",
            "Image 35: Predicted Probability for Crowd: 0.0000, Actual Label: crowd\n",
            "Image 36: Predicted Probability for Crowd: 0.0000, Actual Label: crowd\n",
            "Image 37: Predicted Probability for Crowd: 0.0000, Actual Label: crowd\n",
            "Image 38: Predicted Probability for Crowd: 0.0000, Actual Label: crowd\n",
            "Image 39: Predicted Probability for Crowd: 0.0000, Actual Label: crowd\n",
            "Image 40: Predicted Probability for Crowd: 0.0000, Actual Label: crowd\n",
            "Image 41: Predicted Probability for Crowd: 0.0000, Actual Label: crowd\n",
            "Image 42: Predicted Probability for Crowd: 0.0000, Actual Label: crowd\n",
            "Image 43: Predicted Probability for Crowd: 0.0000, Actual Label: crowd\n",
            "Image 44: Predicted Probability for Crowd: 0.0000, Actual Label: crowd\n",
            "Image 45: Predicted Probability for Crowd: 0.0000, Actual Label: crowd\n",
            "Image 46: Predicted Probability for Crowd: 0.0000, Actual Label: crowd\n",
            "Image 47: Predicted Probability for Crowd: 0.0000, Actual Label: crowd\n",
            "Image 48: Predicted Probability for Crowd: 0.0000, Actual Label: crowd\n",
            "Image 49: Predicted Probability for Crowd: 0.0000, Actual Label: crowd\n",
            "Image 50: Predicted Probability for Crowd: 0.0000, Actual Label: crowd\n",
            "Image 51: Predicted Probability for Crowd: 0.0000, Actual Label: crowd\n",
            "Image 52: Predicted Probability for Crowd: 0.0000, Actual Label: crowd\n",
            "Image 53: Predicted Probability for Crowd: 0.0000, Actual Label: crowd\n"
          ]
        }
      ],
      "source": [
        "# Load a batch of test images\n",
        "test_images, test_labels = next(validation_generator)  # assuming validation_generator is set up\n",
        "\n",
        "# Make predictions for the test images\n",
        "predictions = model.predict(test_images)\n",
        "#print predictions\n",
        "for i in range(len(test_images)):\n",
        "    prediction = predictions[i][0]  # get the probability for class 1 (crowd)\n",
        "    actual_label = 'crowd' if test_labels[i].any() == 1 else 'non-crowd'  # use .any() to check if any element in the array is 1\n",
        "    print(f\"Image {i+1}: Predicted Probability for Crowd: {prediction:.4f}, Actual Label: {actual_label}\")\n",
        "\n"
      ]
    }
  ],
  "metadata": {
    "colab": {
      "provenance": [],
      "mount_file_id": "16jMgHbEIUFqWN6fTmLXjWaFuoWbM1_xN",
      "authorship_tag": "ABX9TyP/jl7E5sd+Hw9dnuKzFFHK",
      "include_colab_link": true
    },
    "kernelspec": {
      "display_name": "Python 3",
      "name": "python3"
    },
    "language_info": {
      "name": "python"
    }
  },
  "nbformat": 4,
  "nbformat_minor": 0
}