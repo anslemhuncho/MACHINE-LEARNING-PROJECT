{
  "cells": [
    {
      "cell_type": "markdown",
      "metadata": {
        "id": "view-in-github",
        "colab_type": "text"
      },
      "source": [
        "<a href=\"https://colab.research.google.com/github/anslemhuncho/MACHINE-LEARNING-PROJECT/blob/main/VGG16.ipynb\" target=\"_parent\"><img src=\"https://colab.research.google.com/assets/colab-badge.svg\" alt=\"Open In Colab\"/></a>"
      ]
    },
    {
      "cell_type": "code",
      "source": [
        "from google.colab import drive\n",
        "from tensorflow.keras.applications import VGG16\n",
        "from tensorflow.keras.models import Sequential\n",
        "from tensorflow.keras.layers import Flatten, Dense, Dropout\n",
        "from tensorflow.keras.optimizers import Adam\n",
        "from tensorflow.keras.preprocessing.image import ImageDataGenerator\n",
        "from tensorflow.keras.metrics import Precision, Recall\n",
        "import matplotlib.pyplot as plt\n",
        "\n",
        "# Mount Google Drive\n",
        "drive.mount('/content/drive')"
      ],
      "metadata": {
        "colab": {
          "base_uri": "https://localhost:8080/"
        },
        "id": "8hBZbBNj0s_4",
        "outputId": "21fe1846-fa14-4bd0-a5dd-8cc43383826c"
      },
      "execution_count": null,
      "outputs": [
        {
          "output_type": "stream",
          "name": "stdout",
          "text": [
            "Mounted at /content/drive\n"
          ]
        }
      ]
    },
    {
      "cell_type": "code",
      "execution_count": null,
      "metadata": {
        "colab": {
          "base_uri": "https://localhost:8080/",
          "height": 984
        },
        "id": "NOpW0EZstNoX",
        "outputId": "e87250c0-4bc6-4cd2-e156-eb161e2747e1"
      },
      "outputs": [
        {
          "metadata": {
            "tags": null
          },
          "name": "stdout",
          "output_type": "stream",
          "text": [
            "Found 2684 images belonging to 10 classes.\n",
            "Found 2684 images belonging to 10 classes.\n",
            "Downloading data from https://storage.googleapis.com/tensorflow/keras-applications/vgg16/vgg16_weights_tf_dim_ordering_tf_kernels_notop.h5\n",
            "58889256/58889256 [==============================] - 0s 0us/step\n"
          ]
        },
        {
          "metadata": {
            "tags": null
          },
          "name": "stderr",
          "output_type": "stream",
          "text": [
            "WARNING:absl:`lr` is deprecated in Keras optimizer, please use `learning_rate` or use the legacy optimizer, e.g.,tf.keras.optimizers.legacy.Adam.\n"
          ]
        },
        {
          "output_type": "stream",
          "name": "stdout",
          "text": [
            "Epoch 1/10\n",
            "84/84 [==============================] - 593s 7s/step - loss: 2.0821 - accuracy: 0.2221 - precision: 0.3177 - recall: 0.0227 - val_loss: 1.7893 - val_accuracy: 0.3342 - val_precision: 0.9275 - val_recall: 0.0238\n",
            "Epoch 2/10\n",
            "84/84 [==============================] - 54s 646ms/step - loss: 1.8658 - accuracy: 0.2750 - precision: 0.6045 - recall: 0.0302 - val_loss: 1.6241 - val_accuracy: 0.4080 - val_precision: 0.9610 - val_recall: 0.0276\n",
            "Epoch 3/10\n",
            "84/84 [==============================] - 54s 650ms/step - loss: 1.7457 - accuracy: 0.3182 - precision: 0.6727 - recall: 0.0689 - val_loss: 1.5711 - val_accuracy: 0.4311 - val_precision: 0.8588 - val_recall: 0.0816\n",
            "Epoch 4/10\n",
            "84/84 [==============================] - 54s 643ms/step - loss: 1.7202 - accuracy: 0.3349 - precision: 0.6269 - recall: 0.0782 - val_loss: 1.5167 - val_accuracy: 0.4706 - val_precision: 0.9302 - val_recall: 0.0745\n",
            "Epoch 5/10\n",
            "84/84 [==============================] - 54s 645ms/step - loss: 1.6641 - accuracy: 0.3547 - precision: 0.7106 - recall: 0.0924 - val_loss: 1.4683 - val_accuracy: 0.4646 - val_precision: 0.8516 - val_recall: 0.1304\n",
            "Epoch 6/10\n",
            "84/84 [==============================] - 55s 651ms/step - loss: 1.6369 - accuracy: 0.3625 - precision: 0.7100 - recall: 0.1140 - val_loss: 1.4081 - val_accuracy: 0.5313 - val_precision: 0.9169 - val_recall: 0.1274\n",
            "Epoch 7/10\n",
            "84/84 [==============================] - 54s 644ms/step - loss: 1.6024 - accuracy: 0.3782 - precision: 0.7050 - recall: 0.1256 - val_loss: 1.3553 - val_accuracy: 0.5253 - val_precision: 0.8577 - val_recall: 0.1595\n",
            "Epoch 8/10\n",
            "84/84 [==============================] - 54s 647ms/step - loss: 1.5583 - accuracy: 0.3931 - precision: 0.7241 - recall: 0.1379 - val_loss: 1.3465 - val_accuracy: 0.5570 - val_precision: 0.9516 - val_recall: 0.1244\n",
            "Epoch 9/10\n",
            "84/84 [==============================] - 54s 650ms/step - loss: 1.5446 - accuracy: 0.3912 - precision: 0.7223 - recall: 0.1434 - val_loss: 1.2985 - val_accuracy: 0.5607 - val_precision: 0.8980 - val_recall: 0.1870\n",
            "Epoch 10/10\n",
            "84/84 [==============================] - 54s 641ms/step - loss: 1.5133 - accuracy: 0.4121 - precision: 0.7270 - recall: 0.1587 - val_loss: 1.2544 - val_accuracy: 0.5939 - val_precision: 0.9251 - val_recall: 0.1978\n",
            "84/84 [==============================] - 23s 272ms/step - loss: 1.2544 - accuracy: 0.5939 - precision: 0.9251 - recall: 0.1978\n",
            "Test Accuracy: 0.5938897132873535\n",
            "Test Precision: 0.9250870943069458\n",
            "Test Recall: 0.19783905148506165\n"
          ]
        },
        {
          "output_type": "display_data",
          "data": {
            "text/plain": [
              "<Figure size 640x480 with 1 Axes>"
            ],
            "image/png": "[encoded data removed]"
          },
          "metadata": {}
        }
      ],
      "source": [
        "\n",
        "\n",
        "# Define paths to your train and test folders in Google Drive\n",
        "train_path = '/content/drive/MyDrive/normalised data'\n",
        "test_path = '/content/drive/MyDrive/normalised data'\n",
        "\n",
        "# Manually specify class labels and their indices\n",
        "class_labels = {\n",
        "    0: 'animals_protection',\n",
        "    1: 'appealing_for_peace',\n",
        "    2: 'brexit',\n",
        "    3: 'covid19',\n",
        "    4: 'election',\n",
        "    5: 'environment_protection',\n",
        "    6: 'gender_equality',\n",
        "    7: 'immigration',\n",
        "    8: 'racial_equality',\n",
        "    9: 'yellow_vests_movement'\n",
        "}\n",
        "\n",
        "# Create ImageDataGenerator for data augmentation and preprocessing\n",
        "train_datagen = ImageDataGenerator(\n",
        "    rescale=1./255,\n",
        "    shear_range=0.2,\n",
        "    zoom_range=0.2,\n",
        "    horizontal_flip=True\n",
        ")\n",
        "\n",
        "test_datagen = ImageDataGenerator(rescale=1./255)\n",
        "\n",
        "# Adjust batch size based on your system's memory\n",
        "batch_size = 32  # Experiment with different batch sizes\n",
        "target_size = (150, 150)  # Reduce image size for faster processing\n",
        "\n",
        "# Generate batches of augmented data from train and test folders\n",
        "train_generator = train_datagen.flow_from_directory(\n",
        "    train_path,\n",
        "    target_size=target_size,\n",
        "    batch_size=batch_size,\n",
        "    class_mode='categorical',\n",
        "    classes=class_labels.values(),\n",
        "    shuffle=True\n",
        ")\n",
        "\n",
        "test_generator = test_datagen.flow_from_directory(\n",
        "    test_path,\n",
        "    target_size=target_size,\n",
        "    batch_size=batch_size,\n",
        "    class_mode='categorical',\n",
        "    classes=class_labels.values(),\n",
        "    shuffle=False\n",
        ")\n",
        "\n",
        "# Define the ANN model architecture on top of VGG16 base model\n",
        "base_model = VGG16(weights='imagenet', include_top=False, input_shape=(target_size[0], target_size[1], 3))\n",
        "\n",
        "model = Sequential([\n",
        "    base_model,\n",
        "    Flatten(),\n",
        "    Dense(128, activation='relu'),\n",
        "    Dropout(0.5),\n",
        "    Dense(len(class_labels), activation='softmax')\n",
        "])\n",
        "\n",
        "# Freeze the base model's layers\n",
        "for layer in base_model.layers:\n",
        "    layer.trainable = False\n",
        "\n",
        "# Compile the model with additional metrics\n",
        "model.compile(optimizer=Adam(lr=0.0001),\n",
        "              loss='categorical_crossentropy',\n",
        "              metrics=['accuracy', Precision(), Recall()])\n",
        "\n",
        "# Train the model with increased steps per epoch for faster iterations\n",
        "history = model.fit(\n",
        "    train_generator,\n",
        "    steps_per_epoch=len(train_generator),\n",
        "    epochs=10,\n",
        "    validation_data=test_generator,\n",
        "    validation_steps=len(test_generator)\n",
        ")\n",
        "\n",
        "# Evaluate the model on the test data\n",
        "test_loss, test_accuracy, test_precision, test_recall = model.evaluate(test_generator)\n",
        "print(f'Test Accuracy: {test_accuracy}')\n",
        "print(f'Test Precision: {test_precision}')\n",
        "print(f'Test Recall: {test_recall}')\n",
        "\n",
        "# Plot training history\n",
        "plt.plot(history.history['accuracy'], label='accuracy')\n",
        "plt.plot(history.history['val_accuracy'], label='val_accuracy')\n",
        "plt.xlabel('Epoch')\n",
        "plt.ylabel('Accuracy')\n",
        "plt.legend(loc='lower right')\n",
        "plt.show()\n"
      ]
    },
    {
      "cell_type": "code",
      "execution_count": null,
      "metadata": {
        "colab": {
          "base_uri": "https://localhost:8080/"
        },
        "id": "ceWERQsORy6Q",
        "outputId": "40a8db0c-a88b-4b73-f628-649fbe2aa259"
      },
      "outputs": [
        {
          "output_type": "stream",
          "name": "stdout",
          "text": [
            "84/84 [==============================] - 23s 276ms/step\n",
            "Sample 1: Predicted Class: animals_protection, True Class: animals_protection\n",
            "Sample 2: Predicted Class: appealing_for_peace, True Class: animals_protection\n",
            "Sample 3: Predicted Class: animals_protection, True Class: animals_protection\n",
            "Sample 4: Predicted Class: animals_protection, True Class: animals_protection\n",
            "Sample 5: Predicted Class: appealing_for_peace, True Class: animals_protection\n",
            "Sample 6: Predicted Class: yellow_vests_movement, True Class: animals_protection\n",
            "Sample 7: Predicted Class: appealing_for_peace, True Class: animals_protection\n",
            "Sample 8: Predicted Class: appealing_for_peace, True Class: animals_protection\n",
            "Sample 9: Predicted Class: appealing_for_peace, True Class: animals_protection\n",
            "Sample 10: Predicted Class: animals_protection, True Class: animals_protection\n"
          ]
        }
      ],
      "source": [
        "import numpy as np\n",
        "\n",
        "# Make predictions on the test data\n",
        "predictions = model.predict(test_generator)\n",
        "\n",
        "# Get the predicted class labels\n",
        "predicted_classes = np.argmax(predictions, axis=1)\n",
        "\n",
        "# Get the true class labels\n",
        "true_classes = test_generator.classes\n",
        "\n",
        "# Get the class labels\n",
        "class_labels = list(test_generator.class_indices.keys())\n",
        "\n",
        "# Print some example predictions\n",
        "for i in range(10):  # Print predictions for the first 10 samples\n",
        "    print(f\"Sample {i+1}: Predicted Class: {class_labels[predicted_classes[i]]}, True Class: {class_labels[true_classes[i]]}\")\n"
      ]
    },
    {
      "cell_type": "code",
      "source": [],
      "metadata": {
        "id": "X3RlfamZ2vGG"
      },
      "execution_count": null,
      "outputs": []
    }
  ],
  "metadata": {
    "accelerator": "TPU",
    "colab": {
      "gpuType": "V28",
      "provenance": [],
      "authorship_tag": "ABX9TyN/8s/WwNgD1Z5ptIKcKd/k",
      "include_colab_link": true
    },
    "kernelspec": {
      "display_name": "Python 3",
      "name": "python3"
    },
    "language_info": {
      "name": "python"
    }
  },
  "nbformat": 4,
  "nbformat_minor": 0
}