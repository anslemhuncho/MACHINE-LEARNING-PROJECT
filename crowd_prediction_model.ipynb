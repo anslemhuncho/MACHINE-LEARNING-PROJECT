{
  "nbformat": 4,
  "nbformat_minor": 0,
  "metadata": {
    "colab": {
      "provenance": [],
      "authorship_tag": "ABX9TyNeJdiAagehSGPivXT1w+SN",
      "include_colab_link": true
    },
    "kernelspec": {
      "name": "python3",
      "display_name": "Python 3"
    },
    "language_info": {
      "name": "python"
    }
  },
  "cells": [
    {
      "cell_type": "markdown",
      "metadata": {
        "id": "view-in-github",
        "colab_type": "text"
      },
      "source": [
        "<a href=\"https://colab.research.google.com/github/anslemhuncho/MACHINE-LEARNING-PROJECT/blob/main/crowd_prediction_model.ipynb\" target=\"_parent\"><img src=\"https://colab.research.google.com/assets/colab-badge.svg\" alt=\"Open In Colab\"/></a>"
      ]
    },
    {
      "cell_type": "code",
      "source": [
        "# prompt: create code that Resizes images to a consistent size,\n",
        "\n",
        "from PIL import Image\n",
        "\n",
        "def resize_image(image, size):\n",
        "  \"\"\"\n",
        "  Resizes an image to a consistent size.\n",
        "\n",
        "  Args:\n",
        "    image: The image to resize.\n",
        "    size: The desired size of the resized image.\n",
        "\n",
        "  Returns:\n",
        "    The resized image.\n",
        "  \"\"\"\n",
        "\n",
        "  # Check if the image is already the desired size.\n",
        "  if image.size == size:\n",
        "    return image\n",
        "\n",
        "  # Resize the image using the Image.ANTIALIAS filter.\n",
        "  return image.resize(size, Image.ANTIALIAS)\n"
      ],
      "metadata": {
        "id": "pQUBYXBhd_p9"
      },
      "execution_count": null,
      "outputs": []
    }
  ]
}